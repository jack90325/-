{
 "cells": [
  {
   "cell_type": "code",
   "execution_count": 47,
   "id": "f625274d",
   "metadata": {},
   "outputs": [],
   "source": [
    "import joblib \n",
    "model_pretrained=joblib.load('Titanic-LR-20230415.pkl')\n",
    "import pandas as pd"
   ]
  },
  {
   "cell_type": "code",
   "execution_count": 48,
   "id": "40798eeb",
   "metadata": {},
   "outputs": [],
   "source": [
    "df_test = pd.read_csv(\"test.csv\")\n",
    "\n",
    "df_test.drop('PassengerId', axis=1, inplace=True)\n",
    "df_test.drop('Name', axis=1, inplace=True)\n",
    "\n",
    "\n",
    "df_test['HomePlanet'].fillna(df_test['HomePlanet'].value_counts().idxmax(),inplace=True)\n",
    "df_test['CryoSleep'].fillna(df_test['CryoSleep'].value_counts().idxmax(),inplace=True)\n",
    "df_test['Cabin'].fillna(df_test['Cabin'].value_counts().idxmax(),inplace=True)\n",
    "df_test['Destination'].fillna(df_test['Destination'].value_counts().idxmax(),inplace=True)\n",
    "df_test['VIP'].fillna(df_test['VIP'].value_counts().idxmax(),inplace=True)\n",
    "\n",
    "df_test['RoomService'].fillna(value=0, inplace=True)\n",
    "df_test['FoodCourt'].fillna(value=0, inplace=True)\n",
    "df_test['ShoppingMall'].fillna(value=0, inplace=True)\n",
    "df_test['Spa'].fillna(value=0, inplace=True)\n",
    "df_test['VRDeck'].fillna(value=0, inplace=True)\n",
    "\n",
    "df_test=pd.get_dummies(data=df_test,columns=['VIP','HomePlanet','Destination','CryoSleep'])\n",
    "df_test.drop('VIP_False',axis=1,inplace=True)\n",
    "df_test.drop('CryoSleep_False',axis=1,inplace=True)\n",
    "\n",
    "median = df_test['Age'].median()\n",
    "df_test['Age'].fillna(median, inplace=True)\n",
    "\n",
    "df_test['side_or_not'] = 0\n",
    "for i in range(len(df_test)):\n",
    "    SoP = df_test.iloc[i,0]\n",
    "    df_test.iloc[i,15] = SoP[-1]\n",
    "    s = df_test.iloc[i,0]\n",
    "    df_test.iloc[i,0] = s[0]\n",
    "    \n",
    "df_test=pd.get_dummies(data=df_test,columns=['Cabin','side_or_not'])\n",
    "df_test.drop('side_or_not_P',axis=1,inplace=True)"
   ]
  },
  {
   "cell_type": "code",
   "execution_count": 49,
   "id": "53a08d6c",
   "metadata": {},
   "outputs": [
    {
     "data": {
      "text/plain": [
       "array([1, 0, 1, ..., 1, 1, 1], dtype=uint8)"
      ]
     },
     "execution_count": 49,
     "metadata": {},
     "output_type": "execute_result"
    }
   ],
   "source": [
    "predictions2=model_pretrained.predict(df_test)\n",
    "predictions2"
   ]
  },
  {
   "cell_type": "code",
   "execution_count": 50,
   "id": "9d8265a1",
   "metadata": {},
   "outputs": [
    {
     "name": "stdout",
     "output_type": "stream",
     "text": [
      "0        True\n",
      "1       False\n",
      "2        True\n",
      "3        True\n",
      "4        True\n",
      "        ...  \n",
      "4272     True\n",
      "4273    False\n",
      "4274     True\n",
      "4275     True\n",
      "4276     True\n",
      "Name: Transported, Length: 4277, dtype: bool\n"
     ]
    }
   ],
   "source": [
    "forSubmissionDF = pd.read_csv(\"sample_submission.csv\")\n",
    "forSubmissionDF['Transported']=predictions2.astype(bool)\n",
    "# forSubmissionDF['Transported'].replace({0:FALSE,1:TRUE}, inplace=True)\n",
    "print(forSubmissionDF['Transported'])"
   ]
  },
  {
   "cell_type": "code",
   "execution_count": 51,
   "id": "f05a77ff",
   "metadata": {},
   "outputs": [],
   "source": [
    "forSubmissionDF.to_csv('for_submission_20230415.csv', index=False)"
   ]
  },
  {
   "cell_type": "code",
   "execution_count": null,
   "id": "bf763dff",
   "metadata": {},
   "outputs": [],
   "source": []
  }
 ],
 "metadata": {
  "kernelspec": {
   "display_name": "Python 3 (ipykernel)",
   "language": "python",
   "name": "python3"
  },
  "language_info": {
   "codemirror_mode": {
    "name": "ipython",
    "version": 3
   },
   "file_extension": ".py",
   "mimetype": "text/x-python",
   "name": "python",
   "nbconvert_exporter": "python",
   "pygments_lexer": "ipython3",
   "version": "3.9.13"
  }
 },
 "nbformat": 4,
 "nbformat_minor": 5
}
